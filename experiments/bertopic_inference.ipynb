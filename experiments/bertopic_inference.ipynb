{
 "cells": [
  {
   "cell_type": "code",
   "execution_count": 1,
   "metadata": {},
   "outputs": [
    {
     "name": "stderr",
     "output_type": "stream",
     "text": [
      "e:\\deep-learning-on-practice-NLP\\venv\\Lib\\site-packages\\tqdm\\auto.py:21: TqdmWarning: IProgress not found. Please update jupyter and ipywidgets. See https://ipywidgets.readthedocs.io/en/stable/user_install.html\n",
      "  from .autonotebook import tqdm as notebook_tqdm\n"
     ]
    }
   ],
   "source": [
    "import pandas as pd\n",
    "from bertopic import BERTopic\n",
    "import random"
   ]
  },
  {
   "cell_type": "code",
   "execution_count": 2,
   "metadata": {},
   "outputs": [],
   "source": [
    "df_cv = pd.read_csv(\"../data/datasets_with_text/cv.csv\")\n",
    "df_vac = pd.read_csv(\"../data/datasets_with_text/vac.csv\")"
   ]
  },
  {
   "cell_type": "code",
   "execution_count": 3,
   "metadata": {},
   "outputs": [],
   "source": [
    "cvs = df_cv[\"cv_text\"]\n",
    "vacs = df_vac[\"vac_text\"]"
   ]
  },
  {
   "cell_type": "code",
   "execution_count": 4,
   "metadata": {},
   "outputs": [],
   "source": [
    "cv_topic_model = BERTopic.load(\"topic_model_for_cv\")\n",
    "vac_topic_model = BERTopic.load(\"topic_model_for_vac\")"
   ]
  },
  {
   "cell_type": "code",
   "execution_count": 5,
   "metadata": {},
   "outputs": [
    {
     "name": "stderr",
     "output_type": "stream",
     "text": [
      "Batches: 100%|██████████| 977/977 [00:26<00:00, 36.73it/s]\n",
      "2023-12-23 03:39:48,029 - BERTopic - Predicting topic assignments through cosine similarity of topic and document embeddings.\n"
     ]
    }
   ],
   "source": [
    "vac_topics, vac_probs = vac_topic_model.transform(vacs)"
   ]
  },
  {
   "cell_type": "code",
   "execution_count": 6,
   "metadata": {},
   "outputs": [
    {
     "name": "stderr",
     "output_type": "stream",
     "text": [
      "Batches: 100%|██████████| 1399/1399 [01:00<00:00, 23.24it/s]\n",
      "2023-12-23 03:42:33,059 - BERTopic - Predicting topic assignments through cosine similarity of topic and document embeddings.\n"
     ]
    }
   ],
   "source": [
    "cv_topics, cv_probs = cv_topic_model.transform(cvs)"
   ]
  },
  {
   "cell_type": "code",
   "execution_count": 7,
   "metadata": {},
   "outputs": [],
   "source": [
    "cvs = cvs.to_frame()\n",
    "cvs[\"topic_id\"] = cv_topics\n",
    "cvs[\"topic_prob\"] = cv_probs"
   ]
  },
  {
   "cell_type": "code",
   "execution_count": 8,
   "metadata": {},
   "outputs": [],
   "source": [
    "vacs = vacs.to_frame()\n",
    "vacs[\"topic_id\"] = vac_topics\n",
    "vacs[\"topic_prob\"] = vac_probs"
   ]
  },
  {
   "cell_type": "code",
   "execution_count": 9,
   "metadata": {},
   "outputs": [
    {
     "data": {
      "text/html": [
       "<div>\n",
       "<style scoped>\n",
       "    .dataframe tbody tr th:only-of-type {\n",
       "        vertical-align: middle;\n",
       "    }\n",
       "\n",
       "    .dataframe tbody tr th {\n",
       "        vertical-align: top;\n",
       "    }\n",
       "\n",
       "    .dataframe thead th {\n",
       "        text-align: right;\n",
       "    }\n",
       "</style>\n",
       "<table border=\"1\" class=\"dataframe\">\n",
       "  <thead>\n",
       "    <tr style=\"text-align: right;\">\n",
       "      <th></th>\n",
       "      <th>cv_text</th>\n",
       "      <th>topic_id</th>\n",
       "      <th>topic_prob</th>\n",
       "    </tr>\n",
       "  </thead>\n",
       "  <tbody>\n",
       "    <tr>\n",
       "      <th>0</th>\n",
       "      <td>Пол, возраст:\\nМужчина ,  39 лет , родился 27 ...</td>\n",
       "      <td>14</td>\n",
       "      <td>0.982105</td>\n",
       "    </tr>\n",
       "    <tr>\n",
       "      <th>1</th>\n",
       "      <td>Пол, возраст:\\nМужчина ,  60 лет , родился 20 ...</td>\n",
       "      <td>0</td>\n",
       "      <td>0.966906</td>\n",
       "    </tr>\n",
       "    <tr>\n",
       "      <th>2</th>\n",
       "      <td>Пол, возраст:\\nЖенщина ,  36 лет , родилась 12...</td>\n",
       "      <td>63</td>\n",
       "      <td>0.962241</td>\n",
       "    </tr>\n",
       "    <tr>\n",
       "      <th>3</th>\n",
       "      <td>Пол, возраст:\\nМужчина ,  38 лет , родился 25 ...</td>\n",
       "      <td>354</td>\n",
       "      <td>0.940323</td>\n",
       "    </tr>\n",
       "    <tr>\n",
       "      <th>4</th>\n",
       "      <td>Пол, возраст:\\nЖенщина ,  26 лет , родилась 3 ...</td>\n",
       "      <td>35</td>\n",
       "      <td>0.976996</td>\n",
       "    </tr>\n",
       "    <tr>\n",
       "      <th>...</th>\n",
       "      <td>...</td>\n",
       "      <td>...</td>\n",
       "      <td>...</td>\n",
       "    </tr>\n",
       "    <tr>\n",
       "      <th>44739</th>\n",
       "      <td>Пол, возраст:\\nМужчина ,  30 лет , родился 17 ...</td>\n",
       "      <td>0</td>\n",
       "      <td>0.958465</td>\n",
       "    </tr>\n",
       "    <tr>\n",
       "      <th>44740</th>\n",
       "      <td>Пол, возраст:\\nМужчина ,  27 лет , родился 5 м...</td>\n",
       "      <td>9</td>\n",
       "      <td>0.975737</td>\n",
       "    </tr>\n",
       "    <tr>\n",
       "      <th>44741</th>\n",
       "      <td>Пол, возраст:\\nЖенщина ,  48 лет , родилась 26...</td>\n",
       "      <td>4</td>\n",
       "      <td>0.981918</td>\n",
       "    </tr>\n",
       "    <tr>\n",
       "      <th>44742</th>\n",
       "      <td>Пол, возраст:\\nМужчина ,  24 года , родился 6 ...</td>\n",
       "      <td>81</td>\n",
       "      <td>0.972580</td>\n",
       "    </tr>\n",
       "    <tr>\n",
       "      <th>44743</th>\n",
       "      <td>Пол, возраст:\\nМужчина ,  38 лет , родился 25 ...</td>\n",
       "      <td>11</td>\n",
       "      <td>0.970590</td>\n",
       "    </tr>\n",
       "  </tbody>\n",
       "</table>\n",
       "<p>44744 rows × 3 columns</p>\n",
       "</div>"
      ],
      "text/plain": [
       "                                                 cv_text  topic_id  topic_prob\n",
       "0      Пол, возраст:\\nМужчина ,  39 лет , родился 27 ...        14    0.982105\n",
       "1      Пол, возраст:\\nМужчина ,  60 лет , родился 20 ...         0    0.966906\n",
       "2      Пол, возраст:\\nЖенщина ,  36 лет , родилась 12...        63    0.962241\n",
       "3      Пол, возраст:\\nМужчина ,  38 лет , родился 25 ...       354    0.940323\n",
       "4      Пол, возраст:\\nЖенщина ,  26 лет , родилась 3 ...        35    0.976996\n",
       "...                                                  ...       ...         ...\n",
       "44739  Пол, возраст:\\nМужчина ,  30 лет , родился 17 ...         0    0.958465\n",
       "44740  Пол, возраст:\\nМужчина ,  27 лет , родился 5 м...         9    0.975737\n",
       "44741  Пол, возраст:\\nЖенщина ,  48 лет , родилась 26...         4    0.981918\n",
       "44742  Пол, возраст:\\nМужчина ,  24 года , родился 6 ...        81    0.972580\n",
       "44743  Пол, возраст:\\nМужчина ,  38 лет , родился 25 ...        11    0.970590\n",
       "\n",
       "[44744 rows x 3 columns]"
      ]
     },
     "execution_count": 9,
     "metadata": {},
     "output_type": "execute_result"
    }
   ],
   "source": [
    "cvs"
   ]
  },
  {
   "cell_type": "code",
   "execution_count": 10,
   "metadata": {},
   "outputs": [
    {
     "data": {
      "text/html": [
       "<div>\n",
       "<style scoped>\n",
       "    .dataframe tbody tr th:only-of-type {\n",
       "        vertical-align: middle;\n",
       "    }\n",
       "\n",
       "    .dataframe tbody tr th {\n",
       "        vertical-align: top;\n",
       "    }\n",
       "\n",
       "    .dataframe thead th {\n",
       "        text-align: right;\n",
       "    }\n",
       "</style>\n",
       "<table border=\"1\" class=\"dataframe\">\n",
       "  <thead>\n",
       "    <tr style=\"text-align: right;\">\n",
       "      <th></th>\n",
       "      <th>vac_text</th>\n",
       "      <th>topic_id</th>\n",
       "      <th>topic_prob</th>\n",
       "    </tr>\n",
       "  </thead>\n",
       "  <tbody>\n",
       "    <tr>\n",
       "      <th>0</th>\n",
       "      <td>Сфера деятельности:\\nПрограммирование, Разрабо...</td>\n",
       "      <td>85</td>\n",
       "      <td>0.923446</td>\n",
       "    </tr>\n",
       "    <tr>\n",
       "      <th>1</th>\n",
       "      <td>Сфера деятельности:\\nИгровое ПО\\nДолжность:\\nП...</td>\n",
       "      <td>269</td>\n",
       "      <td>0.867804</td>\n",
       "    </tr>\n",
       "    <tr>\n",
       "      <th>2</th>\n",
       "      <td>Сфера деятельности:\\nПродажи\\nДолжность:\\nСпец...</td>\n",
       "      <td>100</td>\n",
       "      <td>0.817706</td>\n",
       "    </tr>\n",
       "    <tr>\n",
       "      <th>3</th>\n",
       "      <td>Сфера деятельности:\\nПродажи\\nДолжность:\\nСпец...</td>\n",
       "      <td>33</td>\n",
       "      <td>0.929044</td>\n",
       "    </tr>\n",
       "    <tr>\n",
       "      <th>4</th>\n",
       "      <td>Сфера деятельности:\\nПродажи\\nДолжность:\\nСпец...</td>\n",
       "      <td>33</td>\n",
       "      <td>0.929044</td>\n",
       "    </tr>\n",
       "    <tr>\n",
       "      <th>...</th>\n",
       "      <td>...</td>\n",
       "      <td>...</td>\n",
       "      <td>...</td>\n",
       "    </tr>\n",
       "    <tr>\n",
       "      <th>31231</th>\n",
       "      <td>Сфера деятельности:\\nТехнический писатель\\nДол...</td>\n",
       "      <td>130</td>\n",
       "      <td>0.808108</td>\n",
       "    </tr>\n",
       "    <tr>\n",
       "      <th>31232</th>\n",
       "      <td>Сфера деятельности:\\nТелекоммуникации\\nДолжнос...</td>\n",
       "      <td>51</td>\n",
       "      <td>0.871774</td>\n",
       "    </tr>\n",
       "    <tr>\n",
       "      <th>31233</th>\n",
       "      <td>Сфера деятельности:\\nТелекоммуникации\\nДолжнос...</td>\n",
       "      <td>51</td>\n",
       "      <td>0.871774</td>\n",
       "    </tr>\n",
       "    <tr>\n",
       "      <th>31234</th>\n",
       "      <td>Сфера деятельности:\\nТелекоммуникации\\nДолжнос...</td>\n",
       "      <td>51</td>\n",
       "      <td>0.871774</td>\n",
       "    </tr>\n",
       "    <tr>\n",
       "      <th>31235</th>\n",
       "      <td>Сфера деятельности:\\nПродажи\\nДолжность:\\nМене...</td>\n",
       "      <td>0</td>\n",
       "      <td>0.888689</td>\n",
       "    </tr>\n",
       "  </tbody>\n",
       "</table>\n",
       "<p>31236 rows × 3 columns</p>\n",
       "</div>"
      ],
      "text/plain": [
       "                                                vac_text  topic_id  topic_prob\n",
       "0      Сфера деятельности:\\nПрограммирование, Разрабо...        85    0.923446\n",
       "1      Сфера деятельности:\\nИгровое ПО\\nДолжность:\\nП...       269    0.867804\n",
       "2      Сфера деятельности:\\nПродажи\\nДолжность:\\nСпец...       100    0.817706\n",
       "3      Сфера деятельности:\\nПродажи\\nДолжность:\\nСпец...        33    0.929044\n",
       "4      Сфера деятельности:\\nПродажи\\nДолжность:\\nСпец...        33    0.929044\n",
       "...                                                  ...       ...         ...\n",
       "31231  Сфера деятельности:\\nТехнический писатель\\nДол...       130    0.808108\n",
       "31232  Сфера деятельности:\\nТелекоммуникации\\nДолжнос...        51    0.871774\n",
       "31233  Сфера деятельности:\\nТелекоммуникации\\nДолжнос...        51    0.871774\n",
       "31234  Сфера деятельности:\\nТелекоммуникации\\nДолжнос...        51    0.871774\n",
       "31235  Сфера деятельности:\\nПродажи\\nДолжность:\\nМене...         0    0.888689\n",
       "\n",
       "[31236 rows x 3 columns]"
      ]
     },
     "execution_count": 10,
     "metadata": {},
     "output_type": "execute_result"
    }
   ],
   "source": [
    "vacs"
   ]
  },
  {
   "cell_type": "code",
   "execution_count": 31,
   "metadata": {},
   "outputs": [],
   "source": [
    "vac_num = random.randint(0, len(vacs) - 1)\n",
    "vac = vacs.iloc[vac_num][\"vac_text\"]\n",
    "\n",
    "cv_num = random.randint(0, len(cvs) - 1)\n",
    "cv = cvs.iloc[cv_num][\"cv_text\"]"
   ]
  },
  {
   "cell_type": "code",
   "execution_count": 32,
   "metadata": {},
   "outputs": [
    {
     "name": "stdout",
     "output_type": "stream",
     "text": [
      "Сфера деятельности:\n",
      "Продажи\n",
      "Должность:\n",
      "Менеджер по продажам B2B\n",
      "Требования:\n",
      "Очень внимательны и усидчивы. Умеете выстраивать тёплый диалог по телефону и не боитесь общаться с малознакомыми людьми. Не любите додумывать...\n",
      "Обязанности:\n",
      "Занимались холодными продажами по телефону. Звонить клиентам из базы и привлекать новых клиентов (холодные продажи по целевой базе). \n",
      "Навыки:\n",
      "Не указано\n",
      "Описание вакансии:\n",
      "Яндекс — крупнейшая поисковая система и IT-компания, разрабатывающая сервисы и инструменты для пользы людей. «Помогать людям решать задачи и достигать своих целей в жизни» — именно так звучит миссия компании. Сегодня насчитывается более 80 сервисов Яндекса, и многие из них можно использовать для продвижения бизнеса.Мы ищем боевого менеджера по продажам. Ваша главная задача — предлагать готовые решения (рекламную подписку) B2B-клиенту, чтобы он мог вывести бизнес на новый уровень.Мы готовы предоставить вам свободный выбор места и времени работы. Если вы разделяете наши взгляды, то мы будем рады вам в нашей команде! Мы ждём, что вы:• очень внимательны и усидчивы;• умеете выстраивать тёплый диалог по телефону и не боитесь общаться с малознакомыми людьми;• не любите додумывать за собеседника и вместо этого предпочитаете задавать вопросы;• умеете самостоятельно и организованно выстраивать расписание рабочего дня;• занимались холодными продажами по телефону. Наш успешный сотрудник:• обучаем;• гибок и адаптивен;• коммуникабелен;• умеет работать в команде. Вам предстоит:• звонить клиентам из базы и привлекать новых клиентов (холодные продажи по целевой базе);• помогать клиентам осваивать новые продукты и инструменты;• выполнять план продаж;• вести отчётность о работе, фиксировать результаты общения с клиентами в системе. Для работы вам потребуется:• компьютер или ноутбук;• высокоскоростной и устойчивый интернет;• гарнитура;• спокойное место без шума. Условия:• официальное оформление по ТК РФ;• сдельно-премиальная оплата труда;• работа в максимально комфортных условиях — прямо из дома;• гибкий рабочий график: по будням четыре часа подряд в промежутке с 09:00 до 18:00 по московскому времени.  \n",
      "\n"
     ]
    }
   ],
   "source": [
    "print(vac)"
   ]
  },
  {
   "cell_type": "code",
   "execution_count": 33,
   "metadata": {},
   "outputs": [
    {
     "name": "stderr",
     "output_type": "stream",
     "text": [
      "Batches: 100%|██████████| 1/1 [00:00<00:00,  4.42it/s]\n",
      "2023-12-23 03:47:31,881 - BERTopic - Predicting topic assignments through cosine similarity of topic and document embeddings.\n"
     ]
    }
   ],
   "source": [
    "topic, prob = cv_topic_model.transform(vac)"
   ]
  },
  {
   "cell_type": "code",
   "execution_count": 34,
   "metadata": {},
   "outputs": [
    {
     "data": {
      "text/plain": [
       "432"
      ]
     },
     "execution_count": 34,
     "metadata": {},
     "output_type": "execute_result"
    }
   ],
   "source": [
    "topic[0]"
   ]
  },
  {
   "cell_type": "code",
   "execution_count": 35,
   "metadata": {},
   "outputs": [
    {
     "data": {
      "text/plain": [
       "array([0.41679674], dtype=float32)"
      ]
     },
     "execution_count": 35,
     "metadata": {},
     "output_type": "execute_result"
    }
   ],
   "source": [
    "prob"
   ]
  },
  {
   "cell_type": "code",
   "execution_count": 38,
   "metadata": {},
   "outputs": [
    {
     "name": "stdout",
     "output_type": "stream",
     "text": [
      "Пол, возраст:\n",
      "Женщина ,  26 лет , родилась 16 сентября 1992\n",
      "ЗП:\n",
      "15000 руб.\n",
      "Ищет работу на должность::\n",
      "Маркетолог,копирайтер,администратор сайта\n",
      "Город, переезд, командировки:\n",
      "Самара , готова к переезду , готова к командировкам\n",
      "Занятость:\n",
      "полная занятость\n",
      "График:\n",
      "гибкий график, удаленная работа\n",
      "Опыт работы:\n",
      "Опыт работы 6 месяцев  Сентябрь 2018 — Февраль  2019 6 месяцев Яндекс Москва , www.yandex.ru Информационные технологии, системная интеграция, интернет ... Интернет-компания (поисковики, платежные системы, соц.сети, информационно-познавательные и развлекательные ресурсы, продвижение сайтов и прочее) Модератор Отслеживание и проверка контента,реклама,развитие веб-ресурса\n",
      "Последнее/нынешнее место работы:\n",
      "Яндекс\n",
      "Последняя/нынешняя должность:\n",
      "Модератор\n",
      "Образование и ВУЗ:\n",
      "Высшее образование 2014  Самарский государственный архитектурно-строительный университет, Самара ПГС, Инженер\n",
      "Авто:\n",
      "Не указано\n",
      "\n"
     ]
    }
   ],
   "source": [
    "print(cvs[cvs[\"topic_id\"] == topic[0]][\"cv_text\"].tolist()[0])"
   ]
  }
 ],
 "metadata": {
  "kernelspec": {
   "display_name": "venv",
   "language": "python",
   "name": "python3"
  },
  "language_info": {
   "codemirror_mode": {
    "name": "ipython",
    "version": 3
   },
   "file_extension": ".py",
   "mimetype": "text/x-python",
   "name": "python",
   "nbconvert_exporter": "python",
   "pygments_lexer": "ipython3",
   "version": "3.11.6"
  }
 },
 "nbformat": 4,
 "nbformat_minor": 2
}
